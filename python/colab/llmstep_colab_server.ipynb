{
  "cells": [
    {
      "cell_type": "markdown",
      "metadata": {
        "id": "view-in-github",
        "colab_type": "text"
      },
      "source": [
        "<a href=\"https://colab.research.google.com/github/30Hzzh/llmstep/blob/master/python/colab/llmstep_colab_server.ipynb\" target=\"_parent\"><img src=\"https://colab.research.google.com/assets/colab-badge.svg\" alt=\"Open In Colab\"/></a>"
      ]
    },
    {
      "cell_type": "markdown",
      "metadata": {
        "id": "sXc849NMr4Ks"
      },
      "source": [
        "# [`llmstep`](https://github.com/wellecks/llmstep) server using Colab notebook\n",
        "In order to use this notebook, follow these instructions:\n",
        "\n",
        "0. First, enable GPU by going to `Runtime` -> `Change runtime type` -> `T4 GPU`.\n",
        "\n",
        "1. Run all the cells in this colab notebook to start your server.\n",
        "\n",
        "2. In your local environment, set the environment variable `LLMSTEP_HOST` equal to the url printed out in this notebook (for example, https://04fa-34-125-110-83.ngrok.io/)\n",
        "\n",
        "3. In your local environment, set the environment variable `LLMSTEP_SERVER=COLAB`.\n",
        "\n",
        "4. Use `llmstep`.\n",
        "\n",
        "\n",
        "#### VSCode steps (2) and (3)\n",
        "\n",
        "To set environment variables in VS Code, go to:\n",
        "\n",
        "- Settings (`Command` + `,` on Mac)\n",
        "- Extensions -> Lean 4\n",
        "- Add environment variables to `Server Env`.\n",
        "- Then restart the Lean Server (`Command` + `t`, then type `> Lean 4: Restart Server`)\n",
        "\n",
        "\n",
        "Authors: Rahul Saha, Sean Welleck"
      ]
    },
    {
      "cell_type": "markdown",
      "source": [
        "### Setup `llmstep` code"
      ],
      "metadata": {
        "id": "F1zKZXLrArH4"
      }
    },
    {
      "cell_type": "code",
      "source": [
        "!pip install pyngrok\n",
        "!pip install flask\n",
        "!pip install transformers\n",
        "!pip install flask_ngrok\n",
        "\n",
        "!wget https://github.com/wellecks/llmstep/archive/92990596f91aad7e1323a8985d46a488ce8aef57.zip\n",
        "!unzip 92990596f91aad7e1323a8985d46a488ce8aef57.zip\n",
        "\n",
        "import sys\n",
        "sys.path.append('./llmstep-92990596f91aad7e1323a8985d46a488ce8aef57/python/')\n",
        "\n",
        "import server"
      ],
      "metadata": {
        "id": "S2IJ1_KcAvz3",
        "outputId": "2cf6cb45-78c3-4a59-9034-b1df370020a6",
        "colab": {
          "base_uri": "https://localhost:8080/"
        }
      },
      "execution_count": 1,
      "outputs": [
        {
          "output_type": "stream",
          "name": "stdout",
          "text": [
            "Collecting pyngrok\n",
            "  Downloading pyngrok-7.2.8-py3-none-any.whl.metadata (10 kB)\n",
            "Requirement already satisfied: PyYAML>=5.1 in /usr/local/lib/python3.11/dist-packages (from pyngrok) (6.0.2)\n",
            "Downloading pyngrok-7.2.8-py3-none-any.whl (25 kB)\n",
            "Installing collected packages: pyngrok\n",
            "Successfully installed pyngrok-7.2.8\n",
            "Requirement already satisfied: flask in /usr/local/lib/python3.11/dist-packages (3.1.1)\n",
            "Requirement already satisfied: blinker>=1.9.0 in /usr/local/lib/python3.11/dist-packages (from flask) (1.9.0)\n",
            "Requirement already satisfied: click>=8.1.3 in /usr/local/lib/python3.11/dist-packages (from flask) (8.2.0)\n",
            "Requirement already satisfied: itsdangerous>=2.2.0 in /usr/local/lib/python3.11/dist-packages (from flask) (2.2.0)\n",
            "Requirement already satisfied: jinja2>=3.1.2 in /usr/local/lib/python3.11/dist-packages (from flask) (3.1.6)\n",
            "Requirement already satisfied: markupsafe>=2.1.1 in /usr/local/lib/python3.11/dist-packages (from flask) (3.0.2)\n",
            "Requirement already satisfied: werkzeug>=3.1.0 in /usr/local/lib/python3.11/dist-packages (from flask) (3.1.3)\n",
            "Requirement already satisfied: transformers in /usr/local/lib/python3.11/dist-packages (4.51.3)\n",
            "Requirement already satisfied: filelock in /usr/local/lib/python3.11/dist-packages (from transformers) (3.18.0)\n",
            "Requirement already satisfied: huggingface-hub<1.0,>=0.30.0 in /usr/local/lib/python3.11/dist-packages (from transformers) (0.31.2)\n",
            "Requirement already satisfied: numpy>=1.17 in /usr/local/lib/python3.11/dist-packages (from transformers) (2.0.2)\n",
            "Requirement already satisfied: packaging>=20.0 in /usr/local/lib/python3.11/dist-packages (from transformers) (24.2)\n",
            "Requirement already satisfied: pyyaml>=5.1 in /usr/local/lib/python3.11/dist-packages (from transformers) (6.0.2)\n",
            "Requirement already satisfied: regex!=2019.12.17 in /usr/local/lib/python3.11/dist-packages (from transformers) (2024.11.6)\n",
            "Requirement already satisfied: requests in /usr/local/lib/python3.11/dist-packages (from transformers) (2.32.3)\n",
            "Requirement already satisfied: tokenizers<0.22,>=0.21 in /usr/local/lib/python3.11/dist-packages (from transformers) (0.21.1)\n",
            "Requirement already satisfied: safetensors>=0.4.3 in /usr/local/lib/python3.11/dist-packages (from transformers) (0.5.3)\n",
            "Requirement already satisfied: tqdm>=4.27 in /usr/local/lib/python3.11/dist-packages (from transformers) (4.67.1)\n",
            "Requirement already satisfied: fsspec>=2023.5.0 in /usr/local/lib/python3.11/dist-packages (from huggingface-hub<1.0,>=0.30.0->transformers) (2025.3.2)\n",
            "Requirement already satisfied: typing-extensions>=3.7.4.3 in /usr/local/lib/python3.11/dist-packages (from huggingface-hub<1.0,>=0.30.0->transformers) (4.13.2)\n",
            "Requirement already satisfied: charset-normalizer<4,>=2 in /usr/local/lib/python3.11/dist-packages (from requests->transformers) (3.4.2)\n",
            "Requirement already satisfied: idna<4,>=2.5 in /usr/local/lib/python3.11/dist-packages (from requests->transformers) (3.10)\n",
            "Requirement already satisfied: urllib3<3,>=1.21.1 in /usr/local/lib/python3.11/dist-packages (from requests->transformers) (2.4.0)\n",
            "Requirement already satisfied: certifi>=2017.4.17 in /usr/local/lib/python3.11/dist-packages (from requests->transformers) (2025.4.26)\n",
            "Collecting flask_ngrok\n",
            "  Downloading flask_ngrok-0.0.25-py3-none-any.whl.metadata (1.8 kB)\n",
            "Requirement already satisfied: Flask>=0.8 in /usr/local/lib/python3.11/dist-packages (from flask_ngrok) (3.1.1)\n",
            "Requirement already satisfied: requests in /usr/local/lib/python3.11/dist-packages (from flask_ngrok) (2.32.3)\n",
            "Requirement already satisfied: blinker>=1.9.0 in /usr/local/lib/python3.11/dist-packages (from Flask>=0.8->flask_ngrok) (1.9.0)\n",
            "Requirement already satisfied: click>=8.1.3 in /usr/local/lib/python3.11/dist-packages (from Flask>=0.8->flask_ngrok) (8.2.0)\n",
            "Requirement already satisfied: itsdangerous>=2.2.0 in /usr/local/lib/python3.11/dist-packages (from Flask>=0.8->flask_ngrok) (2.2.0)\n",
            "Requirement already satisfied: jinja2>=3.1.2 in /usr/local/lib/python3.11/dist-packages (from Flask>=0.8->flask_ngrok) (3.1.6)\n",
            "Requirement already satisfied: markupsafe>=2.1.1 in /usr/local/lib/python3.11/dist-packages (from Flask>=0.8->flask_ngrok) (3.0.2)\n",
            "Requirement already satisfied: werkzeug>=3.1.0 in /usr/local/lib/python3.11/dist-packages (from Flask>=0.8->flask_ngrok) (3.1.3)\n",
            "Requirement already satisfied: charset-normalizer<4,>=2 in /usr/local/lib/python3.11/dist-packages (from requests->flask_ngrok) (3.4.2)\n",
            "Requirement already satisfied: idna<4,>=2.5 in /usr/local/lib/python3.11/dist-packages (from requests->flask_ngrok) (3.10)\n",
            "Requirement already satisfied: urllib3<3,>=1.21.1 in /usr/local/lib/python3.11/dist-packages (from requests->flask_ngrok) (2.4.0)\n",
            "Requirement already satisfied: certifi>=2017.4.17 in /usr/local/lib/python3.11/dist-packages (from requests->flask_ngrok) (2025.4.26)\n",
            "Downloading flask_ngrok-0.0.25-py3-none-any.whl (3.1 kB)\n",
            "Installing collected packages: flask_ngrok\n",
            "Successfully installed flask_ngrok-0.0.25\n",
            "--2025-05-21 13:50:54--  https://github.com/wellecks/llmstep/archive/92990596f91aad7e1323a8985d46a488ce8aef57.zip\n",
            "Resolving github.com (github.com)... 140.82.116.4\n",
            "Connecting to github.com (github.com)|140.82.116.4|:443... connected.\n",
            "HTTP request sent, awaiting response... 302 Found\n",
            "Location: https://codeload.github.com/wellecks/llmstep/zip/92990596f91aad7e1323a8985d46a488ce8aef57 [following]\n",
            "--2025-05-21 13:50:54--  https://codeload.github.com/wellecks/llmstep/zip/92990596f91aad7e1323a8985d46a488ce8aef57\n",
            "Resolving codeload.github.com (codeload.github.com)... 140.82.116.10\n",
            "Connecting to codeload.github.com (codeload.github.com)|140.82.116.10|:443... connected.\n",
            "HTTP request sent, awaiting response... 200 OK\n",
            "Length: unspecified [application/zip]\n",
            "Saving to: ‘92990596f91aad7e1323a8985d46a488ce8aef57.zip’\n",
            "\n",
            "92990596f91aad7e132     [ <=>                ] 558.35K  --.-KB/s    in 0.04s   \n",
            "\n",
            "2025-05-21 13:50:54 (13.9 MB/s) - ‘92990596f91aad7e1323a8985d46a488ce8aef57.zip’ saved [571746]\n",
            "\n",
            "Archive:  92990596f91aad7e1323a8985d46a488ce8aef57.zip\n",
            "92990596f91aad7e1323a8985d46a488ce8aef57\n",
            "   creating: llmstep-92990596f91aad7e1323a8985d46a488ce8aef57/\n",
            " extracting: llmstep-92990596f91aad7e1323a8985d46a488ce8aef57/.gitignore  \n",
            "   creating: llmstep-92990596f91aad7e1323a8985d46a488ce8aef57/.vscode/\n",
            "  inflating: llmstep-92990596f91aad7e1323a8985d46a488ce8aef57/.vscode/settings.json  \n",
            "  inflating: llmstep-92990596f91aad7e1323a8985d46a488ce8aef57/LICENSE  \n",
            "  inflating: llmstep-92990596f91aad7e1323a8985d46a488ce8aef57/LLMstep.lean  \n",
            "   creating: llmstep-92990596f91aad7e1323a8985d46a488ce8aef57/LLMstep/\n",
            "  inflating: llmstep-92990596f91aad7e1323a8985d46a488ce8aef57/LLMstep/Examples.lean  \n",
            "  inflating: llmstep-92990596f91aad7e1323a8985d46a488ce8aef57/LLMstep/LLMstep.lean  \n",
            "  inflating: llmstep-92990596f91aad7e1323a8985d46a488ce8aef57/README.md  \n",
            "   creating: llmstep-92990596f91aad7e1323a8985d46a488ce8aef57/docs/\n",
            "  inflating: llmstep-92990596f91aad7e1323a8985d46a488ce8aef57/docs/vscode_env1.png  \n",
            "  inflating: llmstep-92990596f91aad7e1323a8985d46a488ce8aef57/docs/vscode_env2.png  \n",
            "  inflating: llmstep-92990596f91aad7e1323a8985d46a488ce8aef57/lake-manifest.json  \n",
            "  inflating: llmstep-92990596f91aad7e1323a8985d46a488ce8aef57/lakefile.lean  \n",
            " extracting: llmstep-92990596f91aad7e1323a8985d46a488ce8aef57/lean-toolchain  \n",
            "  inflating: llmstep-92990596f91aad7e1323a8985d46a488ce8aef57/llmstep.gif  \n",
            "   creating: llmstep-92990596f91aad7e1323a8985d46a488ce8aef57/python/\n",
            "   creating: llmstep-92990596f91aad7e1323a8985d46a488ce8aef57/python/colab/\n",
            "  inflating: llmstep-92990596f91aad7e1323a8985d46a488ce8aef57/python/colab/llmstep_colab_server.ipynb  \n",
            "  inflating: llmstep-92990596f91aad7e1323a8985d46a488ce8aef57/python/server.py  \n",
            "  inflating: llmstep-92990596f91aad7e1323a8985d46a488ce8aef57/python/server_encdec.py  \n",
            "  inflating: llmstep-92990596f91aad7e1323a8985d46a488ce8aef57/python/server_vllm.py  \n",
            "  inflating: llmstep-92990596f91aad7e1323a8985d46a488ce8aef57/python/suggest.py  \n",
            "   creating: llmstep-92990596f91aad7e1323a8985d46a488ce8aef57/python/train/\n",
            "  inflating: llmstep-92990596f91aad7e1323a8985d46a488ce8aef57/python/train/README.md  \n",
            "  inflating: llmstep-92990596f91aad7e1323a8985d46a488ce8aef57/python/train/data.py  \n",
            "  inflating: llmstep-92990596f91aad7e1323a8985d46a488ce8aef57/python/train/deepspeed_config.json  \n",
            "  inflating: llmstep-92990596f91aad7e1323a8985d46a488ce8aef57/python/train/tune.py  \n",
            "  inflating: llmstep-92990596f91aad7e1323a8985d46a488ce8aef57/python/train/tune_proofstep.sh  \n",
            " extracting: llmstep-92990596f91aad7e1323a8985d46a488ce8aef57/requirements.txt  \n"
          ]
        }
      ]
    },
    {
      "cell_type": "markdown",
      "metadata": {
        "id": "_-WRNlphi1A_"
      },
      "source": [
        "### Run : load the model and start the server\n",
        "\n",
        "The cell prints out the public URL, for instance: https://04fa-34-125-110-73.ngrok.io\n",
        "\n",
        "**Add this URL as a `LLMSTEP_HOST` environment variable in your local environment.**"
      ]
    },
    {
      "cell_type": "code",
      "source": [],
      "metadata": {
        "id": "S7aNyWKDKXGa"
      },
      "execution_count": null,
      "outputs": []
    },
    {
      "cell_type": "code",
      "execution_count": 3,
      "metadata": {
        "id": "4M52N1j8i0Cg",
        "outputId": "d6a21fef-fe23-4c55-be57-d3ee6725b3d0",
        "colab": {
          "base_uri": "https://localhost:8080/",
          "height": 445
        }
      },
      "outputs": [
        {
          "output_type": "stream",
          "name": "stderr",
          "text": [
            "ERROR:pyngrok.process.ngrok:t=2025-05-21T13:55:15+0000 lvl=eror msg=\"failed to reconnect session\" obj=tunnels.session err=\"authentication failed: Usage of ngrok requires a verified account and authtoken.\\n\\nSign up for an account: https://dashboard.ngrok.com/signup\\nInstall your authtoken: https://dashboard.ngrok.com/get-started/your-authtoken\\r\\n\\r\\nERR_NGROK_4018\\r\\n\"\n",
            "ERROR:pyngrok.process.ngrok:t=2025-05-21T13:55:15+0000 lvl=eror msg=\"session closing\" obj=tunnels.session err=\"authentication failed: Usage of ngrok requires a verified account and authtoken.\\n\\nSign up for an account: https://dashboard.ngrok.com/signup\\nInstall your authtoken: https://dashboard.ngrok.com/get-started/your-authtoken\\r\\n\\r\\nERR_NGROK_4018\\r\\n\"\n"
          ]
        },
        {
          "output_type": "error",
          "ename": "PyngrokNgrokError",
          "evalue": "The ngrok process errored on start: authentication failed: Usage of ngrok requires a verified account and authtoken.\\n\\nSign up for an account: https://dashboard.ngrok.com/signup\\nInstall your authtoken: https://dashboard.ngrok.com/get-started/your-authtoken\\r\\n\\r\\nERR_NGROK_4018\\r\\n.",
          "traceback": [
            "\u001b[0;31m---------------------------------------------------------------------------\u001b[0m",
            "\u001b[0;31mPyngrokNgrokError\u001b[0m                         Traceback (most recent call last)",
            "\u001b[0;32m<ipython-input-3-7b0fd564bc1c>\u001b[0m in \u001b[0;36m<cell line: 0>\u001b[0;34m()\u001b[0m\n\u001b[1;32m      3\u001b[0m \u001b[0;31m# Open a tunnel\u001b[0m\u001b[0;34m\u001b[0m\u001b[0;34m\u001b[0m\u001b[0m\n\u001b[1;32m      4\u001b[0m \u001b[0mport\u001b[0m \u001b[0;34m=\u001b[0m \u001b[0;36m80\u001b[0m\u001b[0;34m\u001b[0m\u001b[0;34m\u001b[0m\u001b[0m\n\u001b[0;32m----> 5\u001b[0;31m \u001b[0mpublic_url\u001b[0m \u001b[0;34m=\u001b[0m \u001b[0mngrok\u001b[0m\u001b[0;34m.\u001b[0m\u001b[0mconnect\u001b[0m\u001b[0;34m(\u001b[0m\u001b[0mport\u001b[0m\u001b[0;34m)\u001b[0m\u001b[0;34m\u001b[0m\u001b[0;34m\u001b[0m\u001b[0m\n\u001b[0m\u001b[1;32m      6\u001b[0m \u001b[0;34m\u001b[0m\u001b[0m\n\u001b[1;32m      7\u001b[0m \u001b[0;31m# Setup the config (modify the options here if you want)\u001b[0m\u001b[0;34m\u001b[0m\u001b[0;34m\u001b[0m\u001b[0m\n",
            "\u001b[0;32m/usr/local/lib/python3.11/dist-packages/pyngrok/ngrok.py\u001b[0m in \u001b[0;36mconnect\u001b[0;34m(addr, proto, name, pyngrok_config, **options)\u001b[0m\n\u001b[1;32m    383\u001b[0m     \u001b[0mlogger\u001b[0m\u001b[0;34m.\u001b[0m\u001b[0minfo\u001b[0m\u001b[0;34m(\u001b[0m\u001b[0;34mf\"Opening tunnel named: {name}\"\u001b[0m\u001b[0;34m)\u001b[0m\u001b[0;34m\u001b[0m\u001b[0;34m\u001b[0m\u001b[0m\n\u001b[1;32m    384\u001b[0m \u001b[0;34m\u001b[0m\u001b[0m\n\u001b[0;32m--> 385\u001b[0;31m     \u001b[0mapi_url\u001b[0m \u001b[0;34m=\u001b[0m \u001b[0mget_ngrok_process\u001b[0m\u001b[0;34m(\u001b[0m\u001b[0mpyngrok_config\u001b[0m\u001b[0;34m)\u001b[0m\u001b[0;34m.\u001b[0m\u001b[0mapi_url\u001b[0m\u001b[0;34m\u001b[0m\u001b[0;34m\u001b[0m\u001b[0m\n\u001b[0m\u001b[1;32m    386\u001b[0m \u001b[0;34m\u001b[0m\u001b[0m\n\u001b[1;32m    387\u001b[0m     \u001b[0mlogger\u001b[0m\u001b[0;34m.\u001b[0m\u001b[0mdebug\u001b[0m\u001b[0;34m(\u001b[0m\u001b[0;34mf\"Creating tunnel with options: {options}\"\u001b[0m\u001b[0;34m)\u001b[0m\u001b[0;34m\u001b[0m\u001b[0;34m\u001b[0m\u001b[0m\n",
            "\u001b[0;32m/usr/local/lib/python3.11/dist-packages/pyngrok/ngrok.py\u001b[0m in \u001b[0;36mget_ngrok_process\u001b[0;34m(pyngrok_config)\u001b[0m\n\u001b[1;32m    201\u001b[0m     \u001b[0minstall_ngrok\u001b[0m\u001b[0;34m(\u001b[0m\u001b[0mpyngrok_config\u001b[0m\u001b[0;34m)\u001b[0m\u001b[0;34m\u001b[0m\u001b[0;34m\u001b[0m\u001b[0m\n\u001b[1;32m    202\u001b[0m \u001b[0;34m\u001b[0m\u001b[0m\n\u001b[0;32m--> 203\u001b[0;31m     \u001b[0;32mreturn\u001b[0m \u001b[0mprocess\u001b[0m\u001b[0;34m.\u001b[0m\u001b[0mget_process\u001b[0m\u001b[0;34m(\u001b[0m\u001b[0mpyngrok_config\u001b[0m\u001b[0;34m)\u001b[0m\u001b[0;34m\u001b[0m\u001b[0;34m\u001b[0m\u001b[0m\n\u001b[0m\u001b[1;32m    204\u001b[0m \u001b[0;34m\u001b[0m\u001b[0m\n\u001b[1;32m    205\u001b[0m \u001b[0;34m\u001b[0m\u001b[0m\n",
            "\u001b[0;32m/usr/local/lib/python3.11/dist-packages/pyngrok/process.py\u001b[0m in \u001b[0;36mget_process\u001b[0;34m(pyngrok_config)\u001b[0m\n\u001b[1;32m    268\u001b[0m         \u001b[0;32mreturn\u001b[0m \u001b[0m_current_processes\u001b[0m\u001b[0;34m[\u001b[0m\u001b[0mpyngrok_config\u001b[0m\u001b[0;34m.\u001b[0m\u001b[0mngrok_path\u001b[0m\u001b[0;34m]\u001b[0m\u001b[0;34m\u001b[0m\u001b[0;34m\u001b[0m\u001b[0m\n\u001b[1;32m    269\u001b[0m \u001b[0;34m\u001b[0m\u001b[0m\n\u001b[0;32m--> 270\u001b[0;31m     \u001b[0;32mreturn\u001b[0m \u001b[0m_start_process\u001b[0m\u001b[0;34m(\u001b[0m\u001b[0mpyngrok_config\u001b[0m\u001b[0;34m)\u001b[0m\u001b[0;34m\u001b[0m\u001b[0;34m\u001b[0m\u001b[0m\n\u001b[0m\u001b[1;32m    271\u001b[0m \u001b[0;34m\u001b[0m\u001b[0m\n\u001b[1;32m    272\u001b[0m \u001b[0;34m\u001b[0m\u001b[0m\n",
            "\u001b[0;32m/usr/local/lib/python3.11/dist-packages/pyngrok/process.py\u001b[0m in \u001b[0;36m_start_process\u001b[0;34m(pyngrok_config)\u001b[0m\n\u001b[1;32m    445\u001b[0m \u001b[0;34m\u001b[0m\u001b[0m\n\u001b[1;32m    446\u001b[0m         \u001b[0;32mif\u001b[0m \u001b[0mngrok_process\u001b[0m\u001b[0;34m.\u001b[0m\u001b[0mstartup_error\u001b[0m \u001b[0;32mis\u001b[0m \u001b[0;32mnot\u001b[0m \u001b[0;32mNone\u001b[0m\u001b[0;34m:\u001b[0m\u001b[0;34m\u001b[0m\u001b[0;34m\u001b[0m\u001b[0m\n\u001b[0;32m--> 447\u001b[0;31m             raise PyngrokNgrokError(f\"The ngrok process errored on start: {ngrok_process.startup_error}.\",\n\u001b[0m\u001b[1;32m    448\u001b[0m                                     \u001b[0mngrok_process\u001b[0m\u001b[0;34m.\u001b[0m\u001b[0mlogs\u001b[0m\u001b[0;34m,\u001b[0m\u001b[0;34m\u001b[0m\u001b[0;34m\u001b[0m\u001b[0m\n\u001b[1;32m    449\u001b[0m                                     ngrok_process.startup_error)\n",
            "\u001b[0;31mPyngrokNgrokError\u001b[0m: The ngrok process errored on start: authentication failed: Usage of ngrok requires a verified account and authtoken.\\n\\nSign up for an account: https://dashboard.ngrok.com/signup\\nInstall your authtoken: https://dashboard.ngrok.com/get-started/your-authtoken\\r\\n\\r\\nERR_NGROK_4018\\r\\n."
          ]
        }
      ],
      "source": [
        "from pyngrok import ngrok,conf\n",
        "conf.get_default().auth_token =\"2xPNlAXWSvIX39OcOl27Q9Z4J4q_7njJ7wbPA21dUk6uLEbiJ\"\n",
        "\n",
        "# Open a tunnel\n",
        "port = 80\n",
        "public_url = ngrok.connect(port)\n",
        "\n",
        "# Setup the config (modify the options here if you want)\n",
        "config = {\n",
        "    'LLMSTEP_MODEL': 'wellecks/llmstep-mathlib4-pythia2.8b',\n",
        "    'LLMSTEP_TEMPERATURES': [0.5],\n",
        "    'LLMSTEP_NUM_SAMPLES': 5,\n",
        "    'LLMSTEP_PROMPT': server.llmstep_prompt,\n",
        "    'LLMSTEP_HOST': '',\n",
        "    'LLMSTEP_PORT': port\n",
        "}\n",
        "\n",
        "# Load the model\n",
        "print(\"Loading model...\")\n",
        "model, tokenizer = server.load_hf(config['LLMSTEP_MODEL'])\n",
        "print(\"Loading model done.\")\n",
        "\n",
        "# Start the server\n",
        "httpd = server.LLMStepServer(\n",
        "    model, tokenizer, server.hf_generate, config\n",
        ")\n",
        "\n",
        "print('Your public url is:\\n%s\\n\\nSet LLMSTEP_HOST to this url.' % public_url.public_url)\n",
        "print('Server started')\n",
        "httpd.serve_forever()"
      ]
    },
    {
      "cell_type": "code",
      "source": [
        "\n"
      ],
      "metadata": {
        "id": "i0HSL0v9TegT"
      },
      "execution_count": null,
      "outputs": []
    }
  ],
  "metadata": {
    "accelerator": "GPU",
    "colab": {
      "provenance": [],
      "include_colab_link": true
    },
    "kernelspec": {
      "display_name": "Python 3",
      "name": "python3"
    },
    "language_info": {
      "name": "python"
    }
  },
  "nbformat": 4,
  "nbformat_minor": 0
}